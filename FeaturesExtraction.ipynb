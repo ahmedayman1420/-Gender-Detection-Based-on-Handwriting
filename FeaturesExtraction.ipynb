{
 "cells": [
  {
   "cell_type": "code",
   "execution_count": null,
   "metadata": {},
   "outputs": [],
   "source": [
    "import numpy as np\n",
    "import os\n",
    "from skimage import io\n",
    "import pandas as pd\n",
    "from COLD import * \n",
    "from LBP import * \n",
    "from HOG import *"
   ]
  },
  {
   "cell_type": "code",
   "execution_count": null,
   "metadata": {},
   "outputs": [],
   "source": [
    "malesDirectories = ['preprocessedIcdar/Males', 'preprocessedCMP/Males']\n",
    "femalesDirectories = ['preprocessedIcdar/Females', 'preprocessedCMP/Females']\n",
    "imgLabel = ['icdar', 'cmp']\n",
    "featuresTable = []\n",
    "for i in range(2):\n",
    "    malesDirectory = malesDirectories[i]\n",
    "    femalesDirectory = femalesDirectories[i]\n",
    "    targetDirectories = [malesDirectory, femalesDirectory]\n",
    "    labels = ['m','f']\n",
    "    classification = [1,0]\n",
    "    for j in range(2):\n",
    "        for imgPath in os.listdir(targetDirectories[j]):\n",
    "            img = io.imread(targetDirectories[j]+'/'+imgPath)\n",
    "            imgName = imgPath.split('i')[0]+imgLabel[i]+labels[j]\n",
    "            coldHist = ColdFeature(img)\n",
    "            lbpHist = extract_lbp(img)\n",
    "            hogHist = calculateHOG(img)\n",
    "            dataValues = [classification[j],imgName]\n",
    "            dataValues.extend(coldHist)\n",
    "            dataValues.extend(lbpHist)\n",
    "            dataValues.extend(hogHist)\n",
    "\n",
    "            featuresTable.append(dataValues)\n",
    "\n",
    "\n",
    "\n",
    "\n",
    "COLDLabels = ['COLD_'+str(i) for i in range(100)]\n",
    "LBPLabels = ['LBP_'+str(i) for i in range(256)]\n",
    "HOGLabels = ['HOG_'+str(i) for i in range(144)]\n",
    "labels = ['Gender','ImgName']\n",
    "labels.extend(COLDLabels)\n",
    "labels.extend(LBPLabels)\n",
    "labels.extend(HOGLabels)\n",
    "\n",
    "featuresTable = np.array(featuresTable)\n",
    "df = pd.DataFrame(data=featuresTable,columns=labels)\n",
    "\n",
    "for column in df: \n",
    "    if column != 'Gender' and column != 'ImgName':\n",
    "        df[column] = df[column].astype(float)\n",
    "\n",
    "#Remove columns where std = 0 \n",
    "df = df.loc[:, (df != 0).any(axis=0)]\n",
    "\n",
    "#Non Normalized Dataset\n",
    "df.to_csv('NonNormalized.csv')\n",
    "\n",
    "#Calculate standard normalization\n",
    "for column in df:\n",
    "    if column != 'Gender' and column != 'ImgName':\n",
    "        df[column] = (df[column] -\n",
    "                           df[column].mean()) / df[column].std()\n",
    "\n",
    "df.to_csv('Dataset.csv')"
   ]
  }
 ],
 "metadata": {
  "interpreter": {
   "hash": "147b12775c70782a669c3e17562f6ad8d6ea3b756fee47049a2c9ad2cf2390b4"
  },
  "kernelspec": {
   "display_name": "Python 3.9.7 ('base')",
   "language": "python",
   "name": "python3"
  },
  "language_info": {
   "codemirror_mode": {
    "name": "ipython",
    "version": 3
   },
   "file_extension": ".py",
   "mimetype": "text/x-python",
   "name": "python",
   "nbconvert_exporter": "python",
   "pygments_lexer": "ipython3",
   "version": "3.9.7"
  },
  "orig_nbformat": 4
 },
 "nbformat": 4,
 "nbformat_minor": 2
}
