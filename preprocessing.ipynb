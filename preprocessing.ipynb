{
 "cells": [
  {
   "cell_type": "code",
   "execution_count": 1,
   "metadata": {},
   "outputs": [],
   "source": [
    "from preprocess import * "
   ]
  },
  {
   "cell_type": "code",
   "execution_count": 4,
   "metadata": {},
   "outputs": [],
   "source": [
    "#Preprocess ICDAR Dataset images\n",
    "malesDirectory = 'icdar/Males'\n",
    "femalesDirectory = 'icdar/Females'\n",
    "os.mkdir('preprocessedIcdar')\n",
    "os.mkdir('preprocessedIcdar/Males')\n",
    "os.mkdir('preprocessedIcdar/Females')\n",
    "\n",
    "malesTargetDirectory = 'preprocessedIcdar/Males/'\n",
    "index=1\n",
    "for imgPath in os.listdir(malesDirectory):\n",
    "    PreprocessImage(malesDirectory+'/'+imgPath, index, malesTargetDirectory)\n",
    "    index=index+1\n",
    "\n",
    "femalesTargetDirectory = 'preprocessedIcdar/Females/'\n",
    "index=1\n",
    "for imgPath in os.listdir(femalesDirectory):\n",
    "    PreprocessImage(femalesDirectory+'/'+imgPath, index, femalesTargetDirectory)\n",
    "    index=index+1\n",
    "    \n",
    "\n",
    "\n"
   ]
  }
 ],
 "metadata": {
  "interpreter": {
   "hash": "147b12775c70782a669c3e17562f6ad8d6ea3b756fee47049a2c9ad2cf2390b4"
  },
  "kernelspec": {
   "display_name": "Python 3.9.7 ('base')",
   "language": "python",
   "name": "python3"
  },
  "language_info": {
   "codemirror_mode": {
    "name": "ipython",
    "version": 3
   },
   "file_extension": ".py",
   "mimetype": "text/x-python",
   "name": "python",
   "nbconvert_exporter": "python",
   "pygments_lexer": "ipython3",
   "version": "3.9.7"
  },
  "orig_nbformat": 4
 },
 "nbformat": 4,
 "nbformat_minor": 2
}
