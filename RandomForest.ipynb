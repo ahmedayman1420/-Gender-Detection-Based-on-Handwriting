{
 "cells": [
  {
   "cell_type": "markdown",
   "metadata": {},
   "source": [
    "Imports"
   ]
  },
  {
   "cell_type": "code",
   "execution_count": null,
   "metadata": {},
   "outputs": [],
   "source": [
    "import pandas as pd\n",
    "from sklearn.model_selection import train_test_split\n",
    "from sklearn.ensemble import RandomForestClassifier\n",
    "from sklearn.metrics import accuracy_score\n",
    "import time"
   ]
  },
  {
   "cell_type": "markdown",
   "metadata": {},
   "source": [
    "Functions"
   ]
  },
  {
   "cell_type": "code",
   "execution_count": null,
   "metadata": {},
   "outputs": [],
   "source": [
    "def read_file(file_path):\n",
    "    dataset = pd.read_csv(file_path)\n",
    "    \n",
    "    X_train = dataset.iloc[1:2100, 3:-1].values\n",
    "    y_train = dataset.iloc[1:2100, 1].values\n",
    "    \n",
    "    img_names = dataset.iloc[2100:3500,2].values\n",
    "    \n",
    "    X_test = dataset.iloc[2100:3500, 3:-1].values\n",
    "    y_test = dataset.iloc[2100:3500, 1].values\n",
    "    \n",
    "    x_cross_validation = dataset.iloc[2600:3300, 3:-1].values\n",
    "    y_cross_validation = dataset.iloc[2600:3300, 1].values\n",
    "    \n",
    "    return X_train,y_train,X_test , y_test, x_cross_validation,y_cross_validation,img_names"
   ]
  },
  {
   "cell_type": "code",
   "execution_count": null,
   "metadata": {},
   "outputs": [],
   "source": [
    "def get_best_parameter(X_train,y_train,x_cross_validation,y_cross_validation):\n",
    "    # cross validation set(to determine the parameters)\n",
    "    Accuracy = 0\n",
    "    estimator = 0\n",
    "    for i in range(1,300):\n",
    "        regressor = RandomForestClassifier(n_estimators=i, random_state=0)\n",
    "        regressor.fit(X_train, y_train)\n",
    "        y_pred = regressor.predict(x_cross_validation)\n",
    "        new_accuracy = round(accuracy_score(y_cross_validation, y_pred) * 100,2)\n",
    "        if Accuracy < new_accuracy :\n",
    "            Accuracy = new_accuracy\n",
    "            estimator = i\n",
    "    return estimator"
   ]
  },
  {
   "cell_type": "code",
   "execution_count": null,
   "metadata": {},
   "outputs": [],
   "source": [
    "def Print_to_file(file_name,y_pred):\n",
    "    with open(file_name, \"a\") as o:\n",
    "            o.write(str(y_pred) + \"\\n\")\n",
    "    "
   ]
  },
  {
   "cell_type": "code",
   "execution_count": null,
   "metadata": {},
   "outputs": [],
   "source": [
    "def get_Classification(X_train,y_train,x_test,y_test,estimator,img_names):\n",
    "    pridiction_Image = []\n",
    "    test_image=[]\n",
    "    male_indecate=0\n",
    "    female_indecate=0\n",
    "    line_classifier=[]\n",
    "    image_classifier=[]\n",
    "    starttime=0\n",
    "    count = 0\n",
    "    stop_watch = 0\n",
    "    prev_img = \"\"\n",
    "    regressor = RandomForestClassifier(n_estimators=estimator, random_state=0)\n",
    "    regressor.fit(X_train, y_train)\n",
    "    print(len(x_test))\n",
    "    print(len(img_names))\n",
    "    \n",
    "    for img in img_names :\n",
    "        if img != prev_img :\n",
    "            prev_img = img\n",
    "            male_indecate=0\n",
    "            female_indecate=0\n",
    "            if count != 0 :\n",
    "                test_image.append(y_test[count - 1])\n",
    "                for line in image_classifier :\n",
    "                    if int(line) == 1 :\n",
    "                        male_indecate+=1\n",
    "                    else :\n",
    "                        female_indecate +=1\n",
    "                if male_indecate > female_indecate :\n",
    "                    Print_to_file(\"result.txt\",1)\n",
    "                    pridiction_Image.append(1)\n",
    "                else :\n",
    "                    Print_to_file(\"result.txt\",0)\n",
    "                    pridiction_Image.append(0)\n",
    "                stop_watch += round(time.time()-starttime,2)\n",
    "                Print_to_file(\"time.txt\",round(time.time()-starttime,2))\n",
    "\n",
    "\n",
    "            image_classifier=[]\n",
    "            starttime=time.time()\n",
    "        y_pred = regressor.predict(x_test[count].reshape(1,-1))\n",
    "        image_classifier.append(y_pred)\n",
    "        line_classifier.append(y_pred)\n",
    "        count += 1\n",
    "    \n",
    "    print(\"Accuracy = \" + str(round(accuracy_score(y_test, line_classifier) * 100,2))+ \"% for line by line\")\n",
    "    print(\"Accuracy = \" + str(round(accuracy_score(test_image, pridiction_Image) * 100,2))+ \"% for img by img\")\n",
    "    print(\"time = \" , stop_watch)\n",
    "    return line_classifier"
   ]
  },
  {
   "cell_type": "code",
   "execution_count": null,
   "metadata": {},
   "outputs": [],
   "source": [
    "x_train,y_train,X_test , y_test, x_cross_validation,y_cross_validation,img_names = read_file(\"Dataset.csv\")\n",
    "estimator = get_best_parameter(x_train,y_train,x_cross_validation,y_cross_validation)\n",
    "get_Classification(x_train,y_train,X_test,y_test,estimator,img_names)"
   ]
  }
 ],
 "metadata": {
  "interpreter": {
   "hash": "147b12775c70782a669c3e17562f6ad8d6ea3b756fee47049a2c9ad2cf2390b4"
  },
  "kernelspec": {
   "display_name": "Python 3.9.7 ('base')",
   "language": "python",
   "name": "python3"
  },
  "language_info": {
   "codemirror_mode": {
    "name": "ipython",
    "version": 3
   },
   "file_extension": ".py",
   "mimetype": "text/x-python",
   "name": "python",
   "nbconvert_exporter": "python",
   "pygments_lexer": "ipython3",
   "version": "3.9.7"
  },
  "orig_nbformat": 4
 },
 "nbformat": 4,
 "nbformat_minor": 2
}
